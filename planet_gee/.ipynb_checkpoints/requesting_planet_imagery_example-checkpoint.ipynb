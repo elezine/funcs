{
 "cells": [
  {
   "cell_type": "code",
   "execution_count": 1,
   "metadata": {},
   "outputs": [],
   "source": [
    "import os\n",
    "import json\n",
    "import requests\n",
    "from requests.auth import HTTPBasicAuth\n",
    "from planet_gee_functions import *"
   ]
  },
  {
   "cell_type": "markdown",
   "metadata": {},
   "source": [
    "Information associated with planet account and GEE GCP project, including pre-made image collection name on GEE:"
   ]
  },
  {
   "cell_type": "code",
   "execution_count": 59,
   "metadata": {},
   "outputs": [],
   "source": [
    "api_key = ''\n",
    "email = ''\n",
    "password = ''\n",
    "\n",
    "gee_project = ''\n",
    "gee_image_collection = ''"
   ]
  },
  {
   "cell_type": "markdown",
   "metadata": {},
   "source": [
    "Geometry of where you want the images in geoJSON format:"
   ]
  },
  {
   "cell_type": "code",
   "execution_count": 58,
   "metadata": {},
   "outputs": [],
   "source": [
    "geometry = {\n",
    "    \"type\": \"Polygon\",\n",
    "    \"coordinates\": [\n",
    "        [\n",
    "            [-117.27056087380798,64.58176173523597],\n",
    "            [-116.96157039529236,64.58176173523597],\n",
    "            [-116.96157039529236,64.8824740922739],\n",
    "            [-117.27056087380798,64.8824740922739],\n",
    "            [-117.27056087380798,64.58176173523597]\n",
    "        ]\n",
    "    ]\n",
    "}"
   ]
  },
  {
   "cell_type": "markdown",
   "metadata": {},
   "source": [
    "Get image ids within this geometry and certain date range, cloud %:"
   ]
  },
  {
   "cell_type": "code",
   "execution_count": 13,
   "metadata": {},
   "outputs": [],
   "source": [
    "image_ids = get_image_ids(geometry, '2020-08-01', '2020-08-02', 0, api_key)"
   ]
  },
  {
   "cell_type": "markdown",
   "metadata": {},
   "source": [
    "Call a post request to Planet to send these image ids to GEE project:"
   ]
  },
  {
   "cell_type": "code",
   "execution_count": 55,
   "metadata": {},
   "outputs": [
    {
     "data": {
      "text/plain": [
       "b'{\"_links\":{\"_self\":\"https://api.planet.com/compute/ops/orders/v2/721fdd14-0185-4b92-a5e5-b4d62d4497e7\"},\"created_on\":\"2020-09-01T14:28:18.471Z\",\"delivery\":{\"google_earth_engine\":{\"collection\":\"planet_shield\",\"project\":\"ee-elezine\"}},\"error_hints\":[],\"id\":\"721fdd14-0185-4b92-a5e5-b4d62d4497e7\",\"last_message\":\"Preparing order\",\"last_modified\":\"2020-09-01T14:28:18.471Z\",\"name\":\"PS Shield Delivery to GEE\",\"products\":[{\"item_ids\":[\"20200801_173955_46_106c\",\"20200801_173952_43_106c\"],\"item_type\":\"PSScene4Band\",\"product_bundle\":\"analytic_sr\"}],\"state\":\"queued\"}\\n'"
      ]
     },
     "execution_count": 55,
     "metadata": {},
     "output_type": "execute_result"
    }
   ],
   "source": [
    "get_images_gee(image_ids, gee_project, gee_image_collection, email, password)"
   ]
  },
  {
   "cell_type": "code",
   "execution_count": null,
   "metadata": {},
   "outputs": [],
   "source": []
  }
 ],
 "metadata": {
  "kernelspec": {
   "display_name": "Python 3",
   "language": "python",
   "name": "python3"
  },
  "language_info": {
   "codemirror_mode": {
    "name": "ipython",
    "version": 3
   },
   "file_extension": ".py",
   "mimetype": "text/x-python",
   "name": "python",
   "nbconvert_exporter": "python",
   "pygments_lexer": "ipython3",
   "version": "3.7.8"
  }
 },
 "nbformat": 4,
 "nbformat_minor": 4
}
